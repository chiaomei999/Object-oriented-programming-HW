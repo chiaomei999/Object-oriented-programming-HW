{
  "nbformat": 4,
  "nbformat_minor": 0,
  "metadata": {
    "colab": {
      "name": "HW8.ipynb",
      "provenance": [],
      "collapsed_sections": [],
      "authorship_tag": "ABX9TyMQfWIKkAmiaMWuXAGtThoN",
      "include_colab_link": true
    },
    "kernelspec": {
      "name": "python3",
      "display_name": "Python 3"
    },
    "language_info": {
      "name": "python"
    }
  },
  "cells": [
    {
      "cell_type": "markdown",
      "metadata": {
        "id": "view-in-github",
        "colab_type": "text"
      },
      "source": [
        "<a href=\"https://colab.research.google.com/github/chiaomei999/Object-oriented-programming-HW/blob/main/HW8.ipynb\" target=\"_parent\"><img src=\"https://colab.research.google.com/assets/colab-badge.svg\" alt=\"Open In Colab\"/></a>"
      ]
    },
    {
      "cell_type": "markdown",
      "source": [
        "參考 overloading 教學：\n",
        "https://www.youtube.com/watch?v=ZcmQ5y7QyTc&ab_channel=CalebCurry\n",
        "\n",
        "\n",
        "Define a class DegreeAngle which contains an integer field representing an angle. The range of values that this type can hold is 0-359 and your code should ensure that this range cannot be exceeded. Implement a default constructor and a constructor with one integer parameter. Overload the + and - operators to allow for the addition and subtraction of DegreeAngle objects. Overload the << and >> operators to enable reading and writing data from input streams. Write a driver program to test your class and its functionality."
      ],
      "metadata": {
        "id": "bsO3kgCCJqOs"
      }
    },
    {
      "cell_type": "code",
      "execution_count": null,
      "metadata": {
        "id": "giHheRWcJnxp",
        "colab": {
          "base_uri": "https://localhost:8080/"
        },
        "outputId": "7ac4c61d-1274-4940-ebb9-ec55fcdc612b"
      },
      "outputs": [
        {
          "output_type": "stream",
          "name": "stdout",
          "text": [
            "Overwriting HW8.cpp\n"
          ]
        }
      ],
      "source": [
        "%%writefile HW8.cpp\n",
        "\n",
        "#include <iostream>\n",
        "#include <iomanip>\n",
        "#include <string>\n",
        "#include <string.h>\n",
        "using namespace std;\n",
        "\n",
        "class  DegreeAngle{\n",
        "//member function\n",
        "public:\n",
        "    DegreeAngle( int=45 ); //constructor\n",
        "    void setAngle(int);\n",
        "    int getAngle();\n",
        "\n",
        "    DegreeAngle operator + (DegreeAngle da){\n",
        "        DegreeAngle new_da;\n",
        "        new_da.angle = angle + da.angle;\n",
        "        return new_da;\n",
        "    }\n",
        "\n",
        "    DegreeAngle operator - (DegreeAngle da){\n",
        "        DegreeAngle new_da;\n",
        "        new_da.angle = angle - da.angle;\n",
        "        return new_da;\n",
        "    }\n",
        "\n",
        "    //data member\n",
        "private:\n",
        "    int angle;\n",
        "\n",
        "};  //end class　prototype\n",
        "\n",
        "DegreeAngle::DegreeAngle(int aa){\n",
        "    setAngle(aa); //validate  \n",
        "} //constructor\n",
        "\n",
        "void DegreeAngle::setAngle(int aa){\n",
        "    angle = aa%360;\n",
        "}\n",
        "\n",
        "int DegreeAngle::getAngle(){\n",
        "    cout << angle <<endl;\n",
        "}\n",
        "\n",
        "int main(){\n",
        "    cout<< \"default angle: 45\" << endl;\n",
        "\n",
        "    DegreeAngle angle1, angle2, angle3, angle4;\n",
        "\n",
        "\n",
        "    int a, b;\n",
        "    cout<< \"set a new angle: \" ;\n",
        "    cin>> a ;\n",
        "    angle1.setAngle(a);\n",
        "    //cout << \"Now the angle1 is: \" ;\n",
        "    //angle1.getAngle();\n",
        "\n",
        "    cout<< \"set a new angle: \" ;\n",
        "    cin>> b ;\n",
        "    angle2.setAngle(b);\n",
        "    //cout << \"Now the angle2 is: \" ;\n",
        "    //angle2.getAngle();\n",
        "\n",
        "    angle3 = angle1 - angle2;\n",
        "    cout << \"angle1 - angle2 = \" ;\n",
        "    angle3.getAngle();\n",
        "\n",
        "\n",
        "    angle4 = angle1 + angle2;\n",
        "    cout << \"angle1 + angle2 = \" ;\n",
        "    angle4.getAngle();\n",
        "\n",
        "    return 0;\n",
        "}"
      ]
    },
    {
      "cell_type": "code",
      "source": [
        "%%shell\n",
        "\n",
        "g++ HW8.cpp -o HW8\n",
        "./HW8"
      ],
      "metadata": {
        "id": "WLgUtvLLL2bg",
        "colab": {
          "base_uri": "https://localhost:8080/"
        },
        "outputId": "9ceff45a-a41f-4969-a3d0-d645fbca3d43"
      },
      "execution_count": null,
      "outputs": [
        {
          "output_type": "stream",
          "name": "stdout",
          "text": [
            "default angle: 45\n",
            "set a new angle: 785\n",
            "Now the angle1 is: 65\n",
            "set a new angle: 1140\n",
            "Now the angle2 is: 60\n",
            "angle1 - angle2 = 5\n",
            "angle1 + angle2 = 125\n"
          ]
        },
        {
          "output_type": "execute_result",
          "data": {
            "text/plain": [
              ""
            ]
          },
          "metadata": {},
          "execution_count": 36
        }
      ]
    }
  ]
}